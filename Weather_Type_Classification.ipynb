{
  "nbformat": 4,
  "nbformat_minor": 0,
  "metadata": {
    "colab": {
      "provenance": []
    },
    "kernelspec": {
      "name": "python3",
      "display_name": "Python 3"
    },
    "language_info": {
      "name": "python"
    }
  },
  "cells": [
    {
      "cell_type": "code",
      "execution_count": null,
      "metadata": {
        "colab": {
          "base_uri": "https://localhost:8080/"
        },
        "id": "DAgCKPpMxp_g",
        "outputId": "a4a98aed-69ac-47a3-e170-83deb8445815"
      },
      "outputs": [
        {
          "output_type": "stream",
          "name": "stdout",
          "text": [
            "First few rows of the dataset:\n",
            "   Temperature  Humidity  Wind Speed  Precipitation (%)    Cloud Cover  \\\n",
            "0         14.0        73         9.5               82.0  partly cloudy   \n",
            "1         39.0        96         8.5               71.0  partly cloudy   \n",
            "2         30.0        64         7.0               16.0          clear   \n",
            "3         38.0        83         1.5               82.0          clear   \n",
            "4         27.0        74        17.0               66.0       overcast   \n",
            "\n",
            "   Atmospheric Pressure  UV Index  Season  Visibility (km)  Location  \\\n",
            "0               1010.82         2  Winter              3.5    inland   \n",
            "1               1011.43         7  Spring             10.0    inland   \n",
            "2               1018.72         5  Spring              5.5  mountain   \n",
            "3               1026.25         7  Spring              1.0   coastal   \n",
            "4                990.67         1  Winter              2.5  mountain   \n",
            "\n",
            "  Weather Type  \n",
            "0        Rainy  \n",
            "1       Cloudy  \n",
            "2        Sunny  \n",
            "3        Sunny  \n",
            "4        Rainy  \n",
            "\n",
            "Summary of the dataset:\n",
            "         Temperature      Humidity    Wind Speed  Precipitation (%)  \\\n",
            "count   13200.000000  13200.000000  13200.000000       13200.000000   \n",
            "unique           NaN           NaN           NaN                NaN   \n",
            "top              NaN           NaN           NaN                NaN   \n",
            "freq             NaN           NaN           NaN                NaN   \n",
            "mean       19.127576     68.710833      9.832197          53.644394   \n",
            "std        17.386327     20.194248      6.908704          31.946541   \n",
            "min       -25.000000     20.000000      0.000000           0.000000   \n",
            "25%         4.000000     57.000000      5.000000          19.000000   \n",
            "50%        21.000000     70.000000      9.000000          58.000000   \n",
            "75%        31.000000     84.000000     13.500000          82.000000   \n",
            "max       109.000000    109.000000     48.500000         109.000000   \n",
            "\n",
            "       Cloud Cover  Atmospheric Pressure      UV Index  Season  \\\n",
            "count        13200          13200.000000  13200.000000   13200   \n",
            "unique           4                   NaN           NaN       4   \n",
            "top       overcast                   NaN           NaN  Winter   \n",
            "freq          6090                   NaN           NaN    5610   \n",
            "mean           NaN           1005.827896      4.005758     NaN   \n",
            "std            NaN             37.199589      3.856600     NaN   \n",
            "min            NaN            800.120000      0.000000     NaN   \n",
            "25%            NaN            994.800000      1.000000     NaN   \n",
            "50%            NaN           1007.650000      3.000000     NaN   \n",
            "75%            NaN           1016.772500      7.000000     NaN   \n",
            "max            NaN           1199.210000     14.000000     NaN   \n",
            "\n",
            "        Visibility (km) Location Weather Type  \n",
            "count      13200.000000    13200        13200  \n",
            "unique              NaN        3            4  \n",
            "top                 NaN   inland        Rainy  \n",
            "freq                NaN     4816         3300  \n",
            "mean           5.462917      NaN          NaN  \n",
            "std            3.371499      NaN          NaN  \n",
            "min            0.000000      NaN          NaN  \n",
            "25%            3.000000      NaN          NaN  \n",
            "50%            5.000000      NaN          NaN  \n",
            "75%            7.500000      NaN          NaN  \n",
            "max           20.000000      NaN          NaN  \n",
            "\n",
            "Missing values in the dataset:\n",
            "Temperature             0\n",
            "Humidity                0\n",
            "Wind Speed              0\n",
            "Precipitation (%)       0\n",
            "Cloud Cover             0\n",
            "Atmospheric Pressure    0\n",
            "UV Index                0\n",
            "Season                  0\n",
            "Visibility (km)         0\n",
            "Location                0\n",
            "Weather Type            0\n",
            "dtype: int64\n"
          ]
        }
      ],
      "source": [
        "import pandas as pd\n",
        "\n",
        "# Load the dataset\n",
        "df = pd.read_csv('weather_classification_data.csv')\n",
        "\n",
        "# Display the first few rows of the dataset\n",
        "print(\"First few rows of the dataset:\")\n",
        "print(df.head())\n",
        "\n",
        "# Get a summary of the dataset\n",
        "print(\"\\nSummary of the dataset:\")\n",
        "print(df.describe(include='all'))\n",
        "\n",
        "# Check for missing values\n",
        "print(\"\\nMissing values in the dataset:\")\n",
        "print(df.isnull().sum())\n"
      ]
    },
    {
      "cell_type": "code",
      "source": [
        "from sklearn.model_selection import train_test_split\n",
        "from sklearn.preprocessing import StandardScaler, LabelEncoder\n",
        "\n",
        "# Separate numerical and categorical columns\n",
        "numerical_columns = ['Temperature', 'Humidity', 'Wind Speed', 'Precipitation (%)', 'Atmospheric Pressure', 'UV Index', 'Visibility (km)']\n",
        "categorical_columns = ['Cloud Cover', 'Season', 'Location', 'Weather Type']\n",
        "\n",
        "# Handle outliers in numerical columns using IQR\n",
        "Q1 = df[numerical_columns].quantile(0.25)\n",
        "Q3 = df[numerical_columns].quantile(0.75)\n",
        "IQR = Q3 - Q1\n",
        "df = df.loc[~((df[numerical_columns] < (Q1 - 1.5 * IQR)) | (df[numerical_columns] > (Q3 + 1.5 * IQR))).any(axis=1)]\n",
        "\n",
        "# Encode categorical variables\n",
        "label_encoders = {}\n",
        "for column in categorical_columns:\n",
        "    le = LabelEncoder()\n",
        "    df.loc[:, column] = le.fit_transform(df[column])\n",
        "    label_encoders[column] = le\n",
        "\n",
        "# Separate features and target variable\n",
        "X = df.drop('Weather Type', axis=1)\n",
        "y = df['Weather Type']\n",
        "\n",
        "# Split the data into training and testing sets\n",
        "X_train, X_test, y_train, y_test = train_test_split(X, y, test_size=0.2, random_state=42)\n",
        "\n",
        "# Standardize the data\n",
        "scaler = StandardScaler()\n",
        "X_train.loc[:, numerical_columns] = scaler.fit_transform(X_train[numerical_columns])\n",
        "X_test.loc[:, numerical_columns] = scaler.transform(X_test[numerical_columns])\n",
        "\n",
        "\n"
      ],
      "metadata": {
        "id": "Q0JjDxhLyLts"
      },
      "execution_count": null,
      "outputs": []
    },
    {
      "cell_type": "code",
      "source": [
        "from sklearn.ensemble import RandomForestClassifier\n",
        "from sklearn.metrics import classification_report, confusion_matrix\n",
        "\n",
        "# Verify the type and values of y_train\n",
        "print(\"y_train type:\", type(y_train))\n",
        "print(\"y_train unique values:\", y_train.unique())\n",
        "\n",
        "# Ensure y_train and y_test are integers\n",
        "y_train = y_train.astype(int)\n",
        "y_test = y_test.astype(int)\n",
        "\n",
        "# Train a Random Forest classifier\n",
        "clf = RandomForestClassifier(random_state=42)\n",
        "clf.fit(X_train, y_train)\n",
        "\n",
        "# Make predictions\n",
        "y_pred = clf.predict(X_test)\n",
        "\n",
        "# Evaluate the model\n",
        "print(\"\\nConfusion Matrix:\")\n",
        "print(confusion_matrix(y_test, y_pred))\n",
        "\n",
        "print(\"\\nClassification Report:\")\n",
        "print(classification_report(y_test, y_pred))\n",
        "\n"
      ],
      "metadata": {
        "colab": {
          "base_uri": "https://localhost:8080/"
        },
        "id": "w-Aqhi3oydiQ",
        "outputId": "904f9b9f-15d7-4727-af46-f46014af8695"
      },
      "execution_count": null,
      "outputs": [
        {
          "output_type": "stream",
          "name": "stdout",
          "text": [
            "y_train type: <class 'pandas.core.series.Series'>\n",
            "y_train unique values: [1 3 0 2]\n",
            "\n",
            "Confusion Matrix:\n",
            "[[602  10   1   2]\n",
            " [ 17 536   0   1]\n",
            " [ 10   1 559   1]\n",
            " [  6   1   1 590]]\n",
            "\n",
            "Classification Report:\n",
            "              precision    recall  f1-score   support\n",
            "\n",
            "           0       0.95      0.98      0.96       615\n",
            "           1       0.98      0.97      0.97       554\n",
            "           2       1.00      0.98      0.99       571\n",
            "           3       0.99      0.99      0.99       598\n",
            "\n",
            "    accuracy                           0.98      2338\n",
            "   macro avg       0.98      0.98      0.98      2338\n",
            "weighted avg       0.98      0.98      0.98      2338\n",
            "\n"
          ]
        }
      ]
    },
    {
      "cell_type": "code",
      "source": [
        "import matplotlib.pyplot as plt\n",
        "import seaborn as sns\n",
        "from sklearn.metrics import confusion_matrix\n",
        "\n",
        "# Menghitung matriks kebingungan\n",
        "cm = confusion_matrix(y_test, y_pred)\n",
        "\n",
        "# Membuat plot\n",
        "plt.figure(figsize=(10, 7))\n",
        "sns.heatmap(cm, annot=True, fmt='d', cmap='Blues', xticklabels=label_encoders['Weather Type'].classes_, yticklabels=label_encoders['Weather Type'].classes_)\n",
        "plt.xlabel('Predicted')\n",
        "plt.ylabel('Actual')\n",
        "plt.title('Confusion Matrix')\n",
        "plt.show()\n"
      ],
      "metadata": {
        "id": "Ub_T3Va_6BD0",
        "outputId": "78886c05-a91b-4fbb-9d97-39e0d81238d3",
        "colab": {
          "base_uri": "https://localhost:8080/",
          "height": 641
        }
      },
      "execution_count": null,
      "outputs": [
        {
          "output_type": "display_data",
          "data": {
            "text/plain": [
              "<Figure size 1000x700 with 2 Axes>"
            ],
            "image/png": "[encoded data removed]"
          },
          "metadata": {}
        }
      ]
    }
  ]
}